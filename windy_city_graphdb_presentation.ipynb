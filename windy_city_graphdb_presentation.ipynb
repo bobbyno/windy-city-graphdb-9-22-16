{
 "cells": [
  {
   "cell_type": "markdown",
   "metadata": {
    "slideshow": {
     "slide_type": "slide"
    }
   },
   "source": [
    "## The Node in the Machine: Software Architecture as Network\n",
    "\n",
    "\n",
    "### Bobby Norton\n",
    "### Windy City GraphDB\n",
    "### September 22, 2016"
   ]
  },
  {
   "cell_type": "markdown",
   "metadata": {
    "slideshow": {
     "slide_type": "slide"
    }
   },
   "source": [
    "## A design / refactoring experiment...\n",
    "\n",
    "Take a code base you know well. Put everything in one namespace / package / your language's equivalent of organization.\n",
    "\n",
    "The tests still pass.\n",
    "\n",
    "Open the code. Do you like this better?\n",
    "\n",
    "There are fewer things, right? Fewer files. Fewer directories.\n",
    "\n",
    "_What's not to love?_"
   ]
  },
  {
   "cell_type": "markdown",
   "metadata": {
    "slideshow": {
     "slide_type": "slide"
    }
   },
   "source": [
    "## Organization matters to us...not the machine.\n",
    "\n",
    "There aren't fewer functions, just fewer _containers_.\n",
    "\n",
    "Everything is exposed to us every time we look at this file.\n",
    "\n",
    "What about our test cases that defined boundaries between the sub-systems?\n",
    "\n",
    "Do we open up some of the functions that we want to test in isolation?"
   ]
  },
  {
   "cell_type": "markdown",
   "metadata": {
    "slideshow": {
     "slide_type": "slide"
    }
   },
   "source": [
    "### We like architecture diagrams because they provide a compact visual description of complicated engineered systems.\n",
    "\n",
    "There is no substitute for quick exploratory analysis and pattern recognition."
   ]
  },
  {
   "cell_type": "markdown",
   "metadata": {
    "slideshow": {
     "slide_type": "slide"
    }
   },
   "source": [
    "![](./img/lein-topology-faad435.png)"
   ]
  },
  {
   "cell_type": "markdown",
   "metadata": {
    "slideshow": {
     "slide_type": "notes"
    }
   },
   "source": [
    "Start at the lower left, in this case at leiningen.topology/topology. The flow of control starts here and moves in a depth-first search from the lower left to the upper right. At the end of each path, control returns to the caller and proceeds across the next outgoing edge.\n",
    "\n",
    "Notice how the five namespaces in this library are arranged to be in close proximity.\n",
    "\n",
    "The program is a tree...a directed acyclic graph.\n",
    "\n",
    "Test coverage can be seen at a glance by following edges from the test vertices on the right.\n",
    "\n",
    "If this diagram were static, it would be an infographic. Informative, perhaps, but ultimately prone to error as the system changes. What we'd like is the ability to _generate_ this diagram from underlying data. In fact, this diagram was mostly generated automatically, and could be completely."
   ]
  },
  {
   "cell_type": "markdown",
   "metadata": {
    "slideshow": {
     "slide_type": "slide"
    }
   },
   "source": [
    "### We don't like pushing pixels.\n",
    "\n",
    "Laying out by hand isn't going to happen on every commit.\n",
    "\n",
    "This is why diagrams get stale."
   ]
  },
  {
   "cell_type": "markdown",
   "metadata": {
    "slideshow": {
     "slide_type": "slide"
    }
   },
   "source": [
    "### End-to-end automation creates some interesting possibilities:\n",
    "\n",
    "* Generate edge data\n",
    "* Generate visualization based on previous commit.\n",
    "* Save coordinates of existing vertices.\n",
    "* Generate visualization of latest code based on recent changes, laying out by hand only things that have changed."
   ]
  },
  {
   "cell_type": "markdown",
   "metadata": {
    "slideshow": {
     "slide_type": "slide"
    }
   },
   "source": [
    "### The problems...\n",
    "\n",
    "* People capturing architecture as marketecture chartjunk.\n",
    "\n",
    "* People create their own vocabularies to describe architecture, then try to build a business off of these ideas. UML is the most infamous of these vocabularies. Plenty of wasted money and time has been spent on that effort."
   ]
  },
  {
   "cell_type": "markdown",
   "metadata": {
    "slideshow": {
     "slide_type": "slide"
    }
   },
   "source": [
    "### The alternative: Architecture as Network\n",
    "\n",
    "A dependency network can be represented as an edge list of the form \"source,target,weight\", e.g.:\n",
    "\n",
    "```\n",
    "topology.core/print-weighted-edges,clojure.core/defn,1\n",
    "topology.core/print-weighted-edges,clojure.core/doseq,1\n",
    "topology.core/print-weighted-edges,clojure.core/println,1\n",
    "topology.core/print-weighted-edges,clojure.string/join,1\n",
    "```\n",
    "\n",
    "This raw data can be imported into visualization tools and organized as a graph and treated like a database.\n",
    "\n",
    "Equivalently, network diagrams created in tools like Cytoscape can be saved as network data."
   ]
  },
  {
   "cell_type": "markdown",
   "metadata": {
    "collapsed": true,
    "slideshow": {
     "slide_type": "slide"
    }
   },
   "source": [
    "## Demo: Visualizing Code with Cytoscape\n",
    "\n",
    "[lein-topology](https://github.com/testedminds/lein-topology) is a Leiningen plugin that generates the data for a Clojure project's function dependency structure matrix.\n",
    "\n",
    "A demonstration of analyzing this network was done with a set of [Jupyter Notebooks in the sandbook](https://github.com/bobbyno/sandbook) project."
   ]
  },
  {
   "cell_type": "markdown",
   "metadata": {
    "slideshow": {
     "slide_type": "slide"
    }
   },
   "source": [
    "## Collect the Dots \n",
    "\n",
    "Functions aren't the only artifacts in your system...you might not be looking at this level at all.\n",
    "\n",
    "You've seen topology create a function dependency graph from a Clojure repo. \n",
    "\n",
    "The same approach is generic: Sources of data to mine \"edgewise\" include git repos, Jenkins / CI, AWS infra like Route 53, and hub.docker.com."
   ]
  },
  {
   "cell_type": "markdown",
   "metadata": {
    "slideshow": {
     "slide_type": "slide"
    }
   },
   "source": [
    "## Analyze...Connect the Dots\n",
    "\n",
    "In memory graph analysis is appropriate for N < 1M\n",
    "\n",
    "[Yes, your data fits in RAM...](http://archive.is/http://yourdatafitsinram.com/) _(probably)_\n",
    "\n",
    "[4clojure example in Gorilla REPL](http://viewer.gorilla-repl.org/view.html?source=github&user=bobbyno&repo=code_as_network&path=doc/foreclojure.clj)"
   ]
  },
  {
   "cell_type": "markdown",
   "metadata": {
    "slideshow": {
     "slide_type": "slide"
    }
   },
   "source": [
    "## Visualize\n",
    "\n",
    "_\"A fundamental challenge in moving from the static to the dynamic is the need to respect, in the case of the latter, what is referred to as the user’s mental map._\n",
    "    \n",
    "_This term is used to describe the result of the process by which, **upon studying a given static network map, a user becomes familiar with it, interprets it, and navigates about it.**_\n",
    "    \n",
    "_Simply put, we would expect a certain amount of ‘stability’ across visualizations.\"_\n",
    "    \n",
    "Statistical Analysis of Network Data in R"
   ]
  },
  {
   "cell_type": "markdown",
   "metadata": {
    "slideshow": {
     "slide_type": "slide"
    }
   },
   "source": [
    "## Visualizing code with a Dependency Structure Matrix (DSM)\n",
    "\n",
    "`'s','t',1` => `[{'source': 's','target': 't','weight': '1'}]`\n",
    "\n",
    "Let's try visualizing as a Dependency Structure Matrix."
   ]
  },
  {
   "cell_type": "code",
   "execution_count": 5,
   "metadata": {
    "collapsed": false,
    "slideshow": {
     "slide_type": "fragment"
    }
   },
   "outputs": [],
   "source": [
    "from sand.io import *\n",
    "\n",
    "network_data = csv_to_edgelist('./data/lein-topology-faad435.csv')"
   ]
  },
  {
   "cell_type": "code",
   "execution_count": 6,
   "metadata": {
    "collapsed": false,
    "slideshow": {
     "slide_type": "fragment"
    }
   },
   "outputs": [
    {
     "data": {
      "text/plain": [
       "204"
      ]
     },
     "execution_count": 6,
     "metadata": {},
     "output_type": "execute_result"
    }
   ],
   "source": [
    "len(network_data)"
   ]
  },
  {
   "cell_type": "code",
   "execution_count": 7,
   "metadata": {
    "collapsed": false,
    "scrolled": true,
    "slideshow": {
     "slide_type": "slide"
    }
   },
   "outputs": [
    {
     "data": {
      "text/plain": [
       "[{'source': 'topology.dependencies/dependencies',\n",
       "  'target': 'clojure.core/defn-',\n",
       "  'weight': '1'},\n",
       " {'source': 'topology.dependencies/filtered',\n",
       "  'target': 'clojure.core/filter',\n",
       "  'weight': '1'},\n",
       " {'source': 'topology.dependencies-test/should-compute-fn-calls-in-namespace',\n",
       "  'target': 'clojure.core/defn',\n",
       "  'weight': '1'},\n",
       " {'source': 'example/test-when', 'target': 'clojure.core/cons', 'weight': '1'},\n",
       " {'source': 'leiningen.topology/topology',\n",
       "  'target': 'org.clojure/clojure',\n",
       "  'weight': '1'}]"
      ]
     },
     "execution_count": 7,
     "metadata": {},
     "output_type": "execute_result"
    }
   ],
   "source": [
    "list(network_data)[:5]"
   ]
  },
  {
   "cell_type": "markdown",
   "metadata": {
    "slideshow": {
     "slide_type": "slide"
    }
   },
   "source": [
    "Let's look at the Dependency Structure Matrix or DSM.\n",
    "\n",
    "This is an $N^2$ matrix representing the network of relationships `row -depends-> column`.\n",
    "\n",
    "Try sorting the entries by outdegree. Notice how most of the most of the lower half of the matrix is empty?\n",
    "\n",
    "There is more to come in later work about [DSM's for software](https://en.wikipedia.org/wiki/Design_structure_matrix). "
   ]
  },
  {
   "cell_type": "code",
   "execution_count": 8,
   "metadata": {
    "collapsed": false,
    "scrolled": true,
    "slideshow": {
     "slide_type": "slide"
    }
   },
   "outputs": [
    {
     "data": {
      "text/html": [
       "\n",
       "        <iframe\n",
       "            width=\"100%\"\n",
       "            height=\"800\"\n",
       "            src=\"figure/graph-0db2221b-a175-403b-9636-eaf2b27da280.html\"\n",
       "            frameborder=\"0\"\n",
       "            allowfullscreen\n",
       "        ></iframe>\n",
       "        "
      ],
      "text/plain": [
       "<IPython.lib.display.IFrame at 0x10a0b8610>"
      ]
     },
     "execution_count": 8,
     "metadata": {},
     "output_type": "execute_result"
    }
   ],
   "source": [
    "from sand.matrix import *\n",
    "\n",
    "matrix(network_data, 800)"
   ]
  },
  {
   "cell_type": "markdown",
   "metadata": {
    "slideshow": {
     "slide_type": "slide"
    }
   },
   "source": [
    "_screenshot of the iframe content in the cell above_\n",
    "\n",
    "<img src='./img/matrix.png' width=600/>"
   ]
  },
  {
   "cell_type": "markdown",
   "metadata": {
    "collapsed": true,
    "slideshow": {
     "slide_type": "slide"
    }
   },
   "source": [
    "### DSM Visualization Exercise Ideas\n",
    "\n",
    "* We would ideally like to order this by group. In this case, namespace is a reasonable way to group. There are many potential options.\n",
    "\n",
    "* Coloring cells could be done in a more interesting way.\n",
    "\n",
    "* Abbreviating columns would be useful."
   ]
  },
  {
   "cell_type": "markdown",
   "metadata": {
    "slideshow": {
     "slide_type": "slide"
    }
   },
   "source": [
    "## Act: Refactor...Restructure\n",
    "\n",
    "\n",
    "\"_With the adoption of a graph-based framework for representing relational data in network analysis we inherit a rich vocabulary for discussing various important concepts related to graphs._\n",
    "\n",
    "_...questions of interest can often be re-phrased in a useful manner as questions regarding some aspect of the structure or characteristics of a corresponding network graph._\"\n",
    "    \n",
    "Statistical Analysis of Network Data in R"
   ]
  },
  {
   "cell_type": "markdown",
   "metadata": {
    "slideshow": {
     "slide_type": "slide"
    }
   },
   "source": [
    "### Descriptive architecture based on observations...\n",
    "\n",
    "### ...over prescriptive architecture based on prognostications.\n",
    "\n",
    "Given the level of complication, it's tough to know a priori what you are about to create.\n",
    "\n",
    "Reverse engineer the structure of an existing system, then bring in structural analysis to your red-green-refactor cycle."
   ]
  },
  {
   "cell_type": "markdown",
   "metadata": {
    "slideshow": {
     "slide_type": "slide"
    }
   },
   "source": [
    "## Other applications of software architecture networks..."
   ]
  },
  {
   "cell_type": "markdown",
   "metadata": {
    "slideshow": {
     "slide_type": "subslide"
    }
   },
   "source": [
    "### Orientating devs and ops...where are things in this system?\n",
    "\n",
    "**Form follows function.**\n",
    "\n",
    "* Collections of vertices: Communities/Clusters => Packages/Namespaces\n",
    "\n",
    "* How do we describe the flow of control through the program? Does the package structure reflect a description of that flow of control?"
   ]
  },
  {
   "cell_type": "markdown",
   "metadata": {
    "slideshow": {
     "slide_type": "subslide"
    }
   },
   "source": [
    "### YAGNI: You aren't gonna need it\n",
    "\n",
    "Find all nodes with no incoming edges that aren't in a certain namespace (like the one with the main method).\n",
    "\n",
    "These are candidates for deletion."
   ]
  },
  {
   "cell_type": "markdown",
   "metadata": {
    "slideshow": {
     "slide_type": "subslide"
    }
   },
   "source": [
    "### SRP enforcement\n",
    "\n",
    "Which namespaces are the consumers of any other given namespace?\n",
    "\n",
    "Does the provider expose a consistent interface to consumers?"
   ]
  },
  {
   "cell_type": "markdown",
   "metadata": {
    "slideshow": {
     "slide_type": "subslide"
    }
   },
   "source": [
    "### Which of the containers are \"hidden\", visible from only a small number of consumers? \n",
    "\n",
    "`topology.symbols`, for example, is hidden behind `topology.dependencies`. The entire implementation could be swapped out without impacting the rest of the program if the contract with `topology.dependencies` is maintained. \n",
    "\n",
    "**This is encapsulation in network terms, which can be mathematically defined!**"
   ]
  },
  {
   "cell_type": "markdown",
   "metadata": {
    "slideshow": {
     "slide_type": "subslide"
    }
   },
   "source": [
    "### Root cause analysis\n",
    "\n",
    "Paths from a temporary root node to the node where a problem is observed. \n",
    "\n",
    "pathfinding + changelogs."
   ]
  },
  {
   "cell_type": "markdown",
   "metadata": {
    "slideshow": {
     "slide_type": "subslide"
    }
   },
   "source": [
    "### Change propogators: High in-degree and out-degree centrality. \n",
    "\n",
    "\"Change agents make systems brittle because they increase the likelihood that the effect of a change will propagate to a disproportionately large portion of the system.\""
   ]
  },
  {
   "cell_type": "markdown",
   "metadata": {
    "collapsed": true,
    "slideshow": {
     "slide_type": "slide"
    }
   },
   "source": [
    "### This doesn't mean BDUF is back in style...\n",
    "\n",
    "...but equally, NDUF (No Design Up Front) and NDE (No Design Ever) aren't cool anymore now that you have a powerful architecture model."
   ]
  },
  {
   "cell_type": "markdown",
   "metadata": {
    "slideshow": {
     "slide_type": "fragment"
    }
   },
   "source": [
    "* Start with the simplest structure that can possibly work."
   ]
  },
  {
   "cell_type": "markdown",
   "metadata": {
    "slideshow": {
     "slide_type": "fragment"
    }
   },
   "source": [
    "* Once desirable structural patterns are known amongst the team, you can start to write tests that express these rules."
   ]
  },
  {
   "cell_type": "markdown",
   "metadata": {
    "slideshow": {
     "slide_type": "fragment"
    }
   },
   "source": [
    "* Techniques like TDD and BDD are design techniques, not only verification steps. The structural modeling allows you to visualize and navigate the structure of your code, however it was produced. Given the assertion that TDD / BDD result in \"better\" designs, network modeling may provide a means for objective evidence."
   ]
  },
  {
   "cell_type": "markdown",
   "metadata": {
    "slideshow": {
     "slide_type": "slide"
    }
   },
   "source": [
    "### Don't mix networks in the same data set (unless you know what you're doing)\n",
    "\n",
    "* We've been exploring tools for network analysis. Property graph db vendors will encourage you to put everything in a graph, then query what you need. The downside is more complicated schema management.\n",
    "\n",
    "While you _can_ use a graph database in lieu of RDBMS, it's not entirely clear that you _should_.\n",
    "\n",
    "Be clear about what your vertices and edges represent."
   ]
  },
  {
   "cell_type": "markdown",
   "metadata": {
    "slideshow": {
     "slide_type": "slide"
    }
   },
   "source": [
    "### Graph Databases?\n",
    "\n",
    "At no point until now have I said anything about 'graph databases' like Neo4j and Titan. These are persistence stores. They offer a query language, scalability, transactional support, and security along with other concerns found in a RDBMS / NOSQL persistence tier. \n",
    "\n",
    "Use the simplest structure that can possibly work. Given that yourdatafitsinram, you can likely go very far with an in-memory approach that reads in all the data upon system startup. If you're at a point where you _know_ you need to solve the concerns a graph database can handle, then everything we've seen today still applies to the analysis steps.\n",
    "\n",
    "The graph db vendors don't often spend much time on network analysis ideas beyond some of the basics. Most of what you'll find from them involves using the query language, or converting their particular graph representation into others like `networkx` or `igraph`.\n"
   ]
  },
  {
   "cell_type": "markdown",
   "metadata": {
    "slideshow": {
     "slide_type": "slide"
    }
   },
   "source": [
    "## Homework: Dependency Graphing Exercise\n",
    "\n",
    "Take a library you'd like to better understand...probably one you want to change.\n",
    "\n",
    "Start with the output, then walk the dependency graph. \n",
    "\n",
    "**You can start with just package / namespace / class level dependencies**\n",
    "\n",
    "Create the network manually in Cytoscape. We can export the data as a node, edge list when we're done.\n",
    "\n",
    "You might even find it easier to work in text, building out the dependencies edgewise, then importing into cytoscape when you're done.\n",
    "\n",
    "Now try modifying the `lein-topology` notebook to work with your data."
   ]
  },
  {
   "cell_type": "markdown",
   "metadata": {
    "slideshow": {
     "slide_type": "slide"
    }
   },
   "source": [
    "### A \"Software Architecture Network Data\" Community...SAND?\n",
    "\n",
    "Where should we continue the conversation?\n",
    "\n",
    "_I think we need a Google Group._\n",
    "\n",
    "In the meantime:\n",
    "\n",
    "Cytoscape has a thriving app community. \n",
    "\n",
    "http://www.slideshare.net/keiono/introduction-to-biological-network-analysis-and-visualization-with-cytoscape-part1\n",
    "\n",
    "cytoscape-discuss@googlegroups.com\n",
    "\n",
    "cytoscape-help@googlegroups.com\n",
    "\n",
    "[SOCNET](https://insna.org/socnet.html)\n",
    "\n",
    "**And you can find me @bobbynorton and bobby@testedminds.com.**"
   ]
  }
 ],
 "metadata": {
  "celltoolbar": "Slideshow",
  "kernelspec": {
   "display_name": "Python 2",
   "language": "python",
   "name": "python2"
  },
  "language_info": {
   "codemirror_mode": {
    "name": "ipython",
    "version": 2
   },
   "file_extension": ".py",
   "mimetype": "text/x-python",
   "name": "python",
   "nbconvert_exporter": "python",
   "pygments_lexer": "ipython2",
   "version": "2.7.12"
  }
 },
 "nbformat": 4,
 "nbformat_minor": 0
}
